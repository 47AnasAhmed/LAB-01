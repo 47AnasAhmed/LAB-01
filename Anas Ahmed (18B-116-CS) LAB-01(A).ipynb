{
 "cells": [
  {
   "cell_type": "code",
   "execution_count": 1,
   "metadata": {
    "scrolled": false
   },
   "outputs": [
    {
     "name": "stdout",
     "output_type": "stream",
     "text": [
      "Assalam o Alaikum, Python World!\n"
     ]
    }
   ],
   "source": [
    "message = \"Assalam o Alaikum, Python World!\"\n",
    "print(message)\n",
    "\n"
   ]
  },
  {
   "cell_type": "code",
   "execution_count": null,
   "metadata": {
    "scrolled": true
   },
   "outputs": [],
   "source": [
    "message2 =\"I am from Usman Institute Of Technology\"\n",
    "message3 ='My students are great ...'\n",
    "\n",
    "print(message2)\n",
    "print(message3)\n"
   ]
  },
  {
   "cell_type": "code",
   "execution_count": 3,
   "metadata": {},
   "outputs": [
    {
     "name": "stdout",
     "output_type": "stream",
     "text": [
      "Anas Ahmed\n",
      "ANAS AHMED\n",
      "anas ahmed\n"
     ]
    }
   ],
   "source": [
    "name = \"AnAs AhMeD\"\n",
    " \n",
    "print(name.title())\n",
    "print(name.upper())\n",
    "print(name.lower())\n"
   ]
  },
  {
   "cell_type": "code",
   "execution_count": 5,
   "metadata": {},
   "outputs": [
    {
     "name": "stdout",
     "output_type": "stream",
     "text": [
      "Tell me your Roll No: 18B-116-CS\n",
      "18B-116-CS\n"
     ]
    }
   ],
   "source": [
    "message = input(\"Tell me your Roll No: \")\n",
    "print(message)"
   ]
  },
  {
   "cell_type": "markdown",
   "metadata": {},
   "source": []
  },
  {
   "cell_type": "code",
   "execution_count": 13,
   "metadata": {},
   "outputs": [
    {
     "name": "stdout",
     "output_type": "stream",
     "text": [
      "Please enter your name:Anas Ahmed\n",
      "Assalam O Alaikum,Anas Ahmed!\n"
     ]
    }
   ],
   "source": [
    "name =input(\"Please enter your name:\")\n",
    "print(\"Assalam O Alaikum,\"+ name+\"!\")\n"
   ]
  },
  {
   "cell_type": "code",
   "execution_count": 14,
   "metadata": {},
   "outputs": [
    {
     "name": "stdout",
     "output_type": "stream",
     "text": [
      "Usman Institute Of Technology\n"
     ]
    }
   ],
   "source": [
    "uni_first_name = \"Usman\"\n",
    "uni_middle_name = \"Institute Of\"\n",
    "uni_last_name = \"Technology\"\n",
    "full_name = uni_first_name+\" \"+uni_middle_name+\" \"+uni_last_name\n",
    "print(full_name)"
   ]
  },
  {
   "cell_type": "code",
   "execution_count": 16,
   "metadata": {},
   "outputs": [
    {
     "name": "stdout",
     "output_type": "stream",
     "text": [
      "I Learned These Programming Language: \n",
      " 1) C \n",
      " 2) Java \n",
      " 3) Python\n"
     ]
    }
   ],
   "source": [
    "print(\"I Learned These Programming Language: \\n 1) C \\n 2) Java \\n 3) Python\")\n"
   ]
  },
  {
   "cell_type": "code",
   "execution_count": 17,
   "metadata": {},
   "outputs": [
    {
     "name": "stdout",
     "output_type": "stream",
     "text": [
      "7\n",
      "2\n",
      "25\n",
      "4.0\n",
      "4\n",
      "13\n",
      "16\n"
     ]
    }
   ],
   "source": [
    "print(2+5)\n",
    "print(6-4)\n",
    "print(5*5)\n",
    "print(6/1.5)\n",
    "print(2**2)\n",
    "print(3+5*2)\n",
    "print((3+5)*2)"
   ]
  },
  {
   "cell_type": "code",
   "execution_count": 19,
   "metadata": {},
   "outputs": [
    {
     "name": "stdout",
     "output_type": "stream",
     "text": [
      "7.2\n",
      "1.7999999999999998\n",
      "27.5\n",
      "4.0\n",
      "5.76\n",
      "13.4\n",
      "16.4\n"
     ]
    }
   ],
   "source": [
    "print(2.2+5)\n",
    "print(6-4.2)\n",
    "print(5*5.5)\n",
    "print(6/1.5)\n",
    "print(2.4**2)\n",
    "print(3+5.2*2)\n",
    "print((3+5.2)*2)"
   ]
  },
  {
   "cell_type": "markdown",
   "metadata": {},
   "source": [
    "# lab 01"
   ]
  },
  {
   "cell_type": "code",
   "execution_count": null,
   "metadata": {},
   "outputs": [],
   "source": []
  }
 ],
 "metadata": {
  "kernelspec": {
   "display_name": "Python 3",
   "language": "python",
   "name": "python3"
  },
  "language_info": {
   "codemirror_mode": {
    "name": "ipython",
    "version": 3
   },
   "file_extension": ".py",
   "mimetype": "text/x-python",
   "name": "python",
   "nbconvert_exporter": "python",
   "pygments_lexer": "ipython3",
   "version": "3.7.1"
  }
 },
 "nbformat": 4,
 "nbformat_minor": 2
}
