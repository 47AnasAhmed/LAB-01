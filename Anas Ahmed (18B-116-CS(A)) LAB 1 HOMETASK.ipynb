{
 "cells": [
  {
   "cell_type": "markdown",
   "metadata": {},
   "source": [
    "# Programing Exercise:"
   ]
  },
  {
   "cell_type": "markdown",
   "metadata": {},
   "source": [
    "## Problem No.1"
   ]
  },
  {
   "cell_type": "code",
   "execution_count": 7,
   "metadata": {},
   "outputs": [
    {
     "name": "stdout",
     "output_type": "stream",
     "text": [
      "Temperature in Centigrade: 32\n",
      "The temperature in Fahrenheit will be 89.6\n"
     ]
    }
   ],
   "source": [
    "centi = float(input(\"Temperature in Centigrade: \"))\n",
    "Farh = str((centi*9/5)+32)\n",
    "print(\"The temperature in Fahrenheit will be \" + Farh)"
   ]
  },
  {
   "cell_type": "markdown",
   "metadata": {},
   "source": [
    "## Problem No.2"
   ]
  },
  {
   "cell_type": "code",
   "execution_count": 8,
   "metadata": {},
   "outputs": [
    {
     "name": "stdout",
     "output_type": "stream",
     "text": [
      "Temperature in Fahranheit: 100\n",
      "Temperature in Centigrade will be: 37.77777777777778\n"
     ]
    }
   ],
   "source": [
    "farh = float(input(\"Temperature in Fahranheit: \"))\n",
    "centi = str((farh-32)*5/9)\n",
    "print(\"Temperature in Centigrade will be: \" + centi )"
   ]
  },
  {
   "cell_type": "markdown",
   "metadata": {},
   "source": [
    "## Problem No.3"
   ]
  },
  {
   "cell_type": "code",
   "execution_count": 14,
   "metadata": {},
   "outputs": [
    {
     "name": "stdout",
     "output_type": "stream",
     "text": [
      "Enter the length of rectangle: 12\n",
      "Enter the breadth of rectangle: 7\n",
      "The area of rectangle is 84.0\n"
     ]
    }
   ],
   "source": [
    "leng = float(input(\"Enter the length of rectangle: \"))\n",
    "brea = float(input(\"Enter the breadth of rectangle: \"))\n",
    "area = str(leng*brea)\n",
    "print(\"The area of rectangle is \" + area)"
   ]
  },
  {
   "cell_type": "markdown",
   "metadata": {},
   "source": [
    "## Problem No.4"
   ]
  },
  {
   "cell_type": "code",
   "execution_count": 13,
   "metadata": {},
   "outputs": [
    {
     "name": "stdout",
     "output_type": "stream",
     "text": [
      "Input radius of sphere: 6.2\n",
      "The volume of sphere with radius 6.2 is: 998.305991926331\n"
     ]
    }
   ],
   "source": [
    "from math import pi\n",
    "r = float(input(\"Input radius of sphere: \"))\n",
    "print(\"The volume of sphere with radius \"+ str(r) + \" is: \" + str(4/3*pi*r**3))"
   ]
  },
  {
   "cell_type": "markdown",
   "metadata": {},
   "source": [
    "## Problem No.5"
   ]
  },
  {
   "cell_type": "code",
   "execution_count": 16,
   "metadata": {},
   "outputs": [
    {
     "name": "stdout",
     "output_type": "stream",
     "text": [
      "Anas Ahmed\n",
      "ANAS AHMED\n",
      "anas ahmed\n"
     ]
    }
   ],
   "source": [
    "name = \"AnAs AhMed\"\n",
    "print(name.title())\n",
    "print(name.upper())\n",
    "print(name.lower())"
   ]
  },
  {
   "cell_type": "code",
   "execution_count": null,
   "metadata": {},
   "outputs": [],
   "source": []
  }
 ],
 "metadata": {
  "kernelspec": {
   "display_name": "Python 3",
   "language": "python",
   "name": "python3"
  },
  "language_info": {
   "codemirror_mode": {
    "name": "ipython",
    "version": 3
   },
   "file_extension": ".py",
   "mimetype": "text/x-python",
   "name": "python",
   "nbconvert_exporter": "python",
   "pygments_lexer": "ipython3",
   "version": "3.7.1"
  }
 },
 "nbformat": 4,
 "nbformat_minor": 2
}
